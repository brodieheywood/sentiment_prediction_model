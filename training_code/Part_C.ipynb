{
 "cells": [
  {
   "cell_type": "markdown",
   "metadata": {},
   "source": [
    "### <b>Appendix C</b>"
   ]
  },
  {
   "cell_type": "markdown",
   "metadata": {},
   "source": [
    "#### 1) Import data into pandas DataFrame"
   ]
  },
  {
   "cell_type": "code",
   "execution_count": 2,
   "metadata": {},
   "outputs": [
    {
     "name": "stdout",
     "output_type": "stream",
     "text": [
      "Dropped 213 duplicate columns\n"
     ]
    }
   ],
   "source": [
    "from pathlib import Path\n",
    "import pandas as pd\n",
    "\n",
    "PATH = Path(\"Datafiniti_Hotel_Reviews_Jun19.csv\")\n",
    "df = pd.read_csv(\n",
    "    PATH, \n",
    "    usecols=[\n",
    "        'id', \n",
    "        'reviews.rating', \n",
    "        'reviews.title', \n",
    "        'reviews.text',\n",
    "    ],\n",
    ")\n",
    "\n",
    "df.rename(\n",
    "    columns = {\n",
    "        'id': 'hotel_id',\n",
    "        'reviews.rating': 'rating',\n",
    "        'reviews.title': 'title',\n",
    "        'reviews.text': 'text',\n",
    "    }, \n",
    "    inplace = True\n",
    ") \n",
    "\n",
    "og_row_count = df.shape[0]\n",
    "df = df.drop_duplicates()\n",
    "new_row_count = df.shape[0]\n",
    "\n",
    "num_duplicates = og_row_count - new_row_count\n",
    "print(\"Dropped {0} duplicate columns\".format(num_duplicates))"
   ]
  },
  {
   "cell_type": "markdown",
   "metadata": {},
   "source": [
    "#### 2) Create long short-term memory (LSTM) model"
   ]
  },
  {
   "cell_type": "code",
   "execution_count": 5,
   "metadata": {},
   "outputs": [
    {
     "name": "stdout",
     "output_type": "stream",
     "text": [
      "Epoch 1/4\n",
      "245/245 [==============================] - 1371s 6s/step - loss: 1.1468 - accuracy: 0.5071 - val_loss: 1.0158 - val_accuracy: 0.5199\n",
      "Epoch 2/4\n",
      "245/245 [==============================] - 1296s 5s/step - loss: 0.9606 - accuracy: 0.5747 - val_loss: 0.9704 - val_accuracy: 0.5562\n",
      "Epoch 3/4\n",
      "245/245 [==============================] - 1340s 5s/step - loss: 0.8950 - accuracy: 0.6172 - val_loss: 1.3192 - val_accuracy: 0.4295\n",
      "Epoch 4/4\n",
      "245/245 [==============================] - 1291s 5s/step - loss: 0.8627 - accuracy: 0.6300 - val_loss: 1.0117 - val_accuracy: 0.5536\n",
      "62/62 - 44s - loss: 1.0117 - accuracy: 0.5536\n",
      "Score: 1.011698603630066\n",
      "Accuracy: 55.36\n"
     ]
    }
   ],
   "source": [
    "from keras_preprocessing.sequence import pad_sequences\n",
    "from keras.preprocessing.text import Tokenizer\n",
    "import pandas as pd\n",
    "import re\n",
    "from sklearn.model_selection import train_test_split\n",
    "from tensorflow.python.keras import Sequential\n",
    "from tensorflow.python.keras.layers import Embedding, LSTM, Dense\n",
    "\n",
    "data = df.copy()\n",
    "data['text'] = data['text'].apply(\n",
    "    (lambda x: re.sub('[^a-zA-z0-9\\s]','',x)))\n",
    "\n",
    "tokenizer = Tokenizer(num_words=2500, lower=True,split=' ')\n",
    "tokenizer.fit_on_texts(data['text'].values)\n",
    "\n",
    "X = tokenizer.texts_to_sequences(data['text'].values)\n",
    "X = pad_sequences(X)\n",
    "\n",
    "embed_dim = 128\n",
    "lstm_out = 200\n",
    "batch_size = 32\n",
    "\n",
    "model = Sequential()\n",
    "model.add(Embedding(2500, embed_dim, mask_zero=True))\n",
    "model.add(LSTM(lstm_out, dropout=0.2))\n",
    "model.add(Dense(5, activation='softmax'))\n",
    "\n",
    "model.compile(\n",
    "    loss='categorical_crossentropy', optimizer='adam', metrics=['accuracy'])\n",
    "\n",
    "Y = pd.get_dummies(data['rating']).values\n",
    "X_train, X_test, Y_train, y_test = train_test_split(X,Y, test_size = 0.20)\n",
    "\n",
    "history = model.fit(\n",
    "    X_train, Y_train, batch_size=batch_size, epochs =4, verbose = 1, \n",
    "    validation_data=(X_test, y_test))\n",
    "\n",
    "score, acc = model.evaluate(X_test, y_test, verbose=2, batch_size=batch_size)\n",
    "print(\"Score: {}\".format(score))\n",
    "print(\"Accuracy: {0:.2f}\".format(acc * 100))"
   ]
  },
  {
   "cell_type": "code",
   "execution_count": 7,
   "metadata": {},
   "outputs": [],
   "source": [
    "model.save('lstm_model.h5')"
   ]
  },
  {
   "cell_type": "code",
   "execution_count": 9,
   "metadata": {},
   "outputs": [],
   "source": [
    "y_predicted = model.predict(X_test)"
   ]
  },
  {
   "cell_type": "code",
   "execution_count": 1,
   "metadata": {},
   "outputs": [
    {
     "ename": "NameError",
     "evalue": "name 'model' is not defined",
     "output_type": "error",
     "traceback": [
      "\u001b[0;31m---------------------------------------------------------------------------\u001b[0m",
      "\u001b[0;31mNameError\u001b[0m                                 Traceback (most recent call last)",
      "\u001b[0;32m<ipython-input-1-1d9b7c70ebf0>\u001b[0m in \u001b[0;36m<module>\u001b[0;34m\u001b[0m\n\u001b[1;32m      1\u001b[0m \u001b[0;32mfrom\u001b[0m \u001b[0mkeras\u001b[0m\u001b[0;34m.\u001b[0m\u001b[0mmodels\u001b[0m \u001b[0;32mimport\u001b[0m \u001b[0mload_model\u001b[0m\u001b[0;34m\u001b[0m\u001b[0;34m\u001b[0m\u001b[0m\n\u001b[1;32m      2\u001b[0m \u001b[0;34m\u001b[0m\u001b[0m\n\u001b[0;32m----> 3\u001b[0;31m \u001b[0mmodel\u001b[0m\u001b[0;34m.\u001b[0m\u001b[0msave\u001b[0m\u001b[0;34m(\u001b[0m\u001b[0;34m'lstm_model.h5'\u001b[0m\u001b[0;34m)\u001b[0m\u001b[0;34m\u001b[0m\u001b[0;34m\u001b[0m\u001b[0m\n\u001b[0m",
      "\u001b[0;31mNameError\u001b[0m: name 'model' is not defined"
     ]
    }
   ],
   "source": [
    "from keras.models import load_model\n",
    "\n",
    "model.save('lstm_model.h5')"
   ]
  },
  {
   "cell_type": "code",
   "execution_count": 11,
   "metadata": {},
   "outputs": [
    {
     "name": "stdout",
     "output_type": "stream",
     "text": [
      "[4 3 3 2 4 0 4 4 4 0 0 2 0 2 4 3 3 3 4 4 4 4 2 0 4 4 4 4 3 4 3 4 0 4 3 2 4\n",
      " 3 4 4 3 4 3 4 4 4 4 4 4 4 3 3 3 3 4 4 4 4 3 3 3 4 4 4 4 4 4 4 0 3 4 4 4 4\n",
      " 4 3 4 2 4 3 4 3 3 4 4 3 4 4 2 2 4 3 3 3 4 2 4 4 2 3]\n"
     ]
    }
   ],
   "source": [
    "print(y_predicted.argmax(axis=1)[:100])"
   ]
  },
  {
   "cell_type": "markdown",
   "metadata": {},
   "source": [
    "#### 3) Validate LSTM model"
   ]
  },
  {
   "cell_type": "code",
   "execution_count": 11,
   "metadata": {},
   "outputs": [
    {
     "data": {
      "image/png": "[encoded data removed]",
      "text/plain": [
       "<Figure size 288x288 with 2 Axes>"
      ]
     },
     "metadata": {
      "needs_background": "light"
     },
     "output_type": "display_data"
    }
   ],
   "source": [
    "import seaborn as sns\n",
    "import matplotlib.pyplot as plt\n",
    "from sklearn import metrics\n",
    "from pandas import DataFrame\n",
    "\n",
    "\n",
    "def display_hotel_rating_pred_confusion_matrix(\n",
    "    y_test: pd.core.series.Series, y_predicted: pd.core.series.Series) -> None:\n",
    "    \"\"\"Display confusion matrix for predictions.\"\"\"\n",
    "    \n",
    "#     cm = metrics.confusion_matrix(y_test.values, y_predicted)\n",
    "    cm = metrics.confusion_matrix(\n",
    "        y_test.argmax(axis=1), y_predicted.argmax(axis=1))\n",
    "    \n",
    "    # Show confusion matrix with colored background.\n",
    "    labels = [str(num) for num in range(1, 6)]\n",
    "    index = labels\n",
    "    cols = labels\n",
    "    df = DataFrame(cm, index=index, columns=cols)\n",
    "    plt.figure(figsize = (4,4))\n",
    "    ax = sns.heatmap(df, cmap='Blues', annot=True, fmt='g')\n",
    "    bottom, top = ax.get_ylim()\n",
    "    ax.set(title = 'Hotel Rating')\n",
    "    ax.set_ylabel('Actual')\n",
    "    ax.set_xlabel('Predicted')\n",
    "    ax.set_ylim(bottom, top)\n",
    "    ax.set_xticklabels(\n",
    "        ax.get_xticklabels(), rotation=0, horizontalalignment='center')\n",
    "    ax.set_yticklabels(\n",
    "        ax.get_yticklabels(), rotation=0, horizontalalignment='right')\n",
    "    \n",
    "\n",
    "display_hotel_rating_pred_confusion_matrix(y_test, y_predicted)"
   ]
  },
  {
   "cell_type": "code",
   "execution_count": 15,
   "metadata": {},
   "outputs": [
    {
     "name": "stdout",
     "output_type": "stream",
     "text": [
      "              precision    recall  f1-score   support\n",
      "\n",
      "           0       0.33      0.69      0.44        99\n",
      "           1       0.09      0.01      0.02       117\n",
      "           2       0.31      0.29      0.30       216\n",
      "           3       0.45      0.40      0.42       577\n",
      "           4       0.69      0.75      0.72       949\n",
      "\n",
      "    accuracy                           0.55      1958\n",
      "   macro avg       0.37      0.43      0.38      1958\n",
      "weighted avg       0.52      0.55      0.53      1958\n",
      "\n"
     ]
    }
   ],
   "source": [
    "from sklearn.metrics import classification_report\n",
    "\n",
    "classification_report = classification_report(\n",
    "    y_test.argmax(axis=1), y_predicted.argmax(axis=1))\n",
    "print(classification_report)"
   ]
  },
  {
   "cell_type": "code",
   "execution_count": 21,
   "metadata": {},
   "outputs": [
    {
     "name": "stdout",
     "output_type": "stream",
     "text": [
      "RMSE: 0.9532\n"
     ]
    }
   ],
   "source": [
    "import math\n",
    "\n",
    "rmse2 = math.sqrt(metrics.mean_squared_error(\n",
    "    y_test.argmax(axis=1), y_predicted.argmax(axis=1)))\n",
    "print(\"RMSE: {:.4f}\".format(rmse2))"
   ]
  }
 ],
 "metadata": {
  "kernelspec": {
   "display_name": "Python 3",
   "language": "python",
   "name": "python3"
  },
  "language_info": {
   "codemirror_mode": {
    "name": "ipython",
    "version": 3
   },
   "file_extension": ".py",
   "mimetype": "text/x-python",
   "name": "python",
   "nbconvert_exporter": "python",
   "pygments_lexer": "ipython3",
   "version": "3.8.6"
  }
 },
 "nbformat": 4,
 "nbformat_minor": 4
}
